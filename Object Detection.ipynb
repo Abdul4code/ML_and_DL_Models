{
 "cells": [
  {
   "cell_type": "markdown",
   "id": "da28d345",
   "metadata": {},
   "source": [
    "<h1> Object Detection With Deep Learning </h1>"
   ]
  },
  {
   "cell_type": "markdown",
   "id": "d0b4a63b",
   "metadata": {},
   "source": [
    "Object detection is a remarkable computer vision Technique which empowers the computer to identify specific objects within a picture and also determine their precise location within the scene. Before object detection, Convolutional Neural networks serve as a prominent method for classifying images into different classes. For an example, we can feed a picture into a Convolutional Neural Network and the network is able to identify if the picture is that of a dog, or a cat or a car or all. This task is called <b> Image Classification.</b> <br><br>\n",
    "\n",
    "<img src=\"images/classification.png\" />\n",
    "\n",
    "Image Classification serve as a base for object detection. However, while image classification indeed represented a significant achievement, it had its limitations. Beyond merely knowing the overall content of an image, there is the need to know the precise whereabouts of individual objects within the scene or how many objects are there. This requirement became especially evident in practical applications such as self-driving cars, medical diagnostics where a deeper level of understanding was essential to ensure safety and optimal decision-making.\n",
    "\n",
    "Object localization is an approaches which arose to solve the problem of identifying precise location of objects in an image. Object localization deals with predicting bounding boxes that tightly enclose each individual object present in an image. The bounding boxes indicate the position and size of the objects, allowing for their precise localization. In this approach, the algorithm determines the coordinates of the box's top-left and bottom-right corners, effectively defining a rectangular region around the detected object. <br><br>\n",
    "\n",
    "<img src=\"images/localization.png\" />"
   ]
  },
  {
   "cell_type": "markdown",
   "id": "21b4f429",
   "metadata": {},
   "source": [
    "A combination of image classification and object localization results to object detection. With these two techniques combined, an objected can be detected within a picture and also its position predicted through the use of bounding boxes. <br><br>\n",
    "<img src=\"images/object detection.png\" />"
   ]
  },
  {
   "cell_type": "code",
   "execution_count": null,
   "id": "2cc7ec47",
   "metadata": {},
   "outputs": [],
   "source": []
  }
 ],
 "metadata": {
  "kernelspec": {
   "display_name": "Python 3 (ipykernel)",
   "language": "python",
   "name": "python3"
  },
  "language_info": {
   "codemirror_mode": {
    "name": "ipython",
    "version": 3
   },
   "file_extension": ".py",
   "mimetype": "text/x-python",
   "name": "python",
   "nbconvert_exporter": "python",
   "pygments_lexer": "ipython3",
   "version": "3.7.6"
  }
 },
 "nbformat": 4,
 "nbformat_minor": 5
}
