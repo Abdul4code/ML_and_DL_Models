{
 "cells": [
  {
   "cell_type": "markdown",
   "id": "5e601b0b",
   "metadata": {},
   "source": [
    "<h1 style=\"text-align: center; font-size: 30pt\"> DECISION TREES </h1>\n",
    "<h1 style=\"text-align: center; font-size: 18pt; margin-bottom:50px; font-family:Arial\"> Abubakar Abdulkadir </h1>\n",
    "<img src='images/decision_tree.png' /><br><br>"
   ]
  },
  {
   "cell_type": "markdown",
   "id": "6d66741c",
   "metadata": {},
   "source": [
    "<h1> What are Decision Trees</h1>"
   ]
  },
  {
   "cell_type": "markdown",
   "id": "84ebff10",
   "metadata": {},
   "source": [
    "\n",
    "Decision trees are not your typical linear models. They are powerful and versatile flowchart-like models that can be used for both prediction and classification tasks. While linear regression models assume a linear relationship between predictors and targets, decision trees break free from such constraints. They are non-parametric models, allowing them to capture complex nonlinear relationships between predictors and targets.\n",
    "\n",
    "The beauty of decision trees lies in their ability to handle real-world complexities. They have found immense popularity in various industries, making a significant impact in fields such as healthcare, manufacturing, banking and finance, e-commerce, and more.\n",
    "\n",
    "The goal of a decision tree is to split your dataset into groups such that all elements in each group are in similar category or have minimal variance."
   ]
  },
  {
   "cell_type": "markdown",
   "id": "27d0eb3c",
   "metadata": {},
   "source": [
    "<h1> How Decision Trees Work </h1>"
   ]
  },
  {
   "cell_type": "markdown",
   "id": "6824f161",
   "metadata": {},
   "source": [
    "There are sevaral variants of the decision tree model. The one we will be considering is the ID3 (Iterative Dichotomiser 3) which is a simple decision tree learning algorithm introduced in 1986 by Quinlan Ross. Lets use an example to build intuion of how it works.\n",
    "\n",
    "Suppose we are trying to predict the gender of a person based off of three features such as hair length, skin color and voice texture. We have the data as shown below\n",
    "\n",
    "<img src='images/dataset.PNG' />"
   ]
  },
  {
   "cell_type": "markdown",
   "id": "a17be5ad",
   "metadata": {},
   "source": [
    "In this scenario, the primary goal of the decision tree is to construct a tree structure where each leaf node represents a group of people with similar genders or minimal disparity in gender. The decision tree aims to create a structure like the one shown below: <img src='images/final_tree.PNG' />\n",
    "\n",
    "<p style=\"text-align: center\"> Fig 1 </p><br>\n",
    "\n",
    "The root node of the decision tree is the \"Voice Texture.\" feature. This feature's values serve as the splitting criterion. Initially, we have 4 males and 4 females in the entire dataset. Upon splitting the dataset based on the root node (voice texture), we observe that all the individuals on the right branch of the tree are females. This indicates a pure node, meaning it requires no further splitting, and we can easily predict \"Female\" for any person whose values align with that branch of the tree.\n",
    "\n",
    "On the left side, we have four males and two females. Unlike the pure node on the right side, this node is impure as it contains a mixture of genders. Hence, we proceed to divide it further by creating a subtree at that impure branch. Each subtree starts with a decision node. In this case, we utilize \"Hair Length\" as the decision node and repeat the same splitting procedure as we did with the root node.\n",
    "\n",
    "Similarly, upon splitting based on hair length, we find that the right branch becomes pure, consisting entirely of males. However, the left branch remains impure with a mix of genders. In this example, I stopped the tree at the second depth and predicted the most common class (modal class). However, we can choose to create a subtree at that branch using \"Skin color\" as the decision node if we desire a deeper tree structure.\n",
    "\n",
    "Although, we will note that to achieve this tree, there are various aspects and questions we need to put into consideration."
   ]
  },
  {
   "cell_type": "markdown",
   "id": "2d521d0d",
   "metadata": {},
   "source": [
    "<h1> Some Decision Tree Considerations </h1>"
   ]
  },
  {
   "cell_type": "markdown",
   "id": "706b2c0b",
   "metadata": {},
   "source": [
    "\n",
    "### 1. How do we choose the nodes to split by?\n",
    "\n",
    "One of the key challenges in building a decision tree is determining which nodes to split on in order to achieve an optimal measure of purity after each split. While it may be straightforward to manually select features when working with a small dataset, the task becomes more challenging when dealing with a larger number of features, such as 10, 20, 100, or even thousands.\n",
    "\n",
    "In such cases, deciding which feature to split on becomes non-trivial. We need a systematic approach to identify the most informative feature that maximizes the measure of purity after the split. In the ID3 algorithm, each feature is tested for measure of purity. For every feature, the dataset is splitted and the purity is measured. The feature which gives the highest purity is considered for the node. This leads to the next question, how do we measure purity?"
   ]
  },
  {
   "cell_type": "markdown",
   "id": "2034e32d",
   "metadata": {},
   "source": [
    "### 2. How do we measure purity?"
   ]
  },
  {
   "cell_type": "markdown",
   "id": "94737eda",
   "metadata": {},
   "source": [
    "There are various quantitaive measures of purity. The most popular ones being the information gain and the Gini index. We will consider the information gain as our method for this tree. Before we can fully comprehend information gain, lets look at entropy.\n",
    "\n",
    "### Entropy \n",
    "Entropy is a measure of impurity in a group of data. A high entropy indicates a greater degree of uncertainty or disparity and a mixture of different classes or categories, while a low entropy signifies a more homogeneous distribution of classes. Entropy is calculated as \n",
    "<p style='text-align: center; font-size: 20pt'> \n",
    "    $Entropy = -\\sum_{i=1}^{C} p_i \\log_2(p_i)$ <br><br> \n",
    "</p>\n",
    "\n",
    "Using the gender classification example, we can compute impurity before and after spliting by each feature. \n",
    "<img src='images/entropy.PNG' />\n",
    "<p style=\"text-align: center\"> Fig 2 </p><br><br>\n",
    "\n",
    "<p style=\"font-size: 12pt; font-weight: bold\"> i. Entropy When we split by voice texture as shown in diagram (A)</p> <br> <br>\n",
    "$P(m)$ at the left = <span style='font-size: 12pt'> $\\frac{totalMaleLeft}{totalSamplesLeft} = \\frac{4}{6} = 0.667 $ </span> <br> <br>\n",
    "$P(f)$ at the left = <span style='font-size: 12pt'> $\\frac{totalFemaleLeft}{totalSamplesLeft} = \\frac{1}{6} = 0.1667 $ </span> <br> <br>\n",
    "entropy of left $ H(Left) =  - (P(m) \\times \\log_2(p(m))) + - (P(f) \\times \\log_2(p(f))) = - (0.667 \\times -0.584) + - (0.1667  \\times -2.58467399) = 0.8204$\n",
    "\n",
    "\n",
    "$P(m)$ at the right = <span style='font-size: 12pt'> $\\frac{0}{2} = 0 $ </span> <br> <br>\n",
    "$P(f)$ at the right = <span style='font-size: 12pt'> $\\frac{2}{2} = 1 $ </span> <br> <br>\n",
    "entropy at right <span style='font-size: 12pt'>$ H(Right) =  - (0 \\times \\log_2(0)) + - (1 \\times \\log_2(1)) = - (0) + - (1  \\times 0) = 0 $</span>\n",
    "\n",
    "We can then compute the entropy for this split using voice texture by taking the weighted average of both the left and right entropy. The weights are computed by using the total number of samples in the left divided by the total sample available in that branch as left weight and total number of samples in the right divided by total samples in the branch as right weight.\n",
    "Hence, the weight will be $w_l = \\frac{6}{8} = 0.75$ and $w_r = \\frac{2}{8} = 0.25$\n",
    "\n",
    "Therefore H(P) = $w_l \\times H(Left ) + w_r \\times H(Right) = 0.75 \\times 0.8204 + 0.25 \\times 0 = 0.6153$\n",
    "\n",
    "\n",
    "<p style=\"font-size: 12pt; font-weight: bold\">ii. Entropy When we split by Hair Length as shown in diagram (B)</p> <br> <br>\n",
    "$P(m)$ at the left = <span style='font-size: 12pt'> $\\frac{totalMaleLeft}{totalSamplesLeft} = \\frac{4}{5} = 0.8 $ </span> <br> <br>\n",
    "$P(f)$ at the left = <span style='font-size: 12pt'> $\\frac{totalFemaleLeft}{totalSamplesLeft} = \\frac{1}{5} = 0.2 $ </span> <br> <br>\n",
    "entropy of left $ H(Left) =  - (P(m) \\times \\log_2(p(m))) + - (P(f) \\times \\log_2(p(f))) = - (0.8 \\times -0.3219) + - (0.2  \\times -2.3219) = 0.7219$\n",
    "\n",
    "\n",
    "$P(m)$ at the right = <span style='font-size: 12pt'> $\\frac{3}{3} = 1 $ </span> <br> <br>\n",
    "$P(f)$ at the right = <span style='font-size: 12pt'> $\\frac{0}{3} = 0 $ </span> <br> <br>\n",
    "entropy at right <span style='font-size: 12pt'>$ H(Right) =  - (1 \\times \\log_2(1)) + - (0 \\times \\log_2(0)) = - (1  \\times 0) + - (0) = 0 $</span>\n",
    "\n",
    "We can then compute the entropy for this split using voice texture by taking the weighted average of both the left and right entropy. The weights are computed by using the total number of samples in the left divided by the total sample available in that branch as left weight and total number of samples in the right divided by total samples in the branch as right weight. <br>\n",
    "Hence, the weight will be $w_l = \\frac{5}{8} = 0.625$ and $w_r = \\frac{3}{8} = 0.375$\n",
    "\n",
    "Therefore H(P) = $w_l \\times H(Left ) + w_r \\times H(Right) = 0.625 \\times 0.7219 + 0.375 \\times 0 = 0.682$\n",
    "\n",
    "### Information Gain \n",
    "Information gain measures the reduction in entropy achieved by splitting the dataset based on a particular feature. The information gain is calculated by comparing the entropy before and after the split. The higher the information gain, the more valuable the feature is in terms of reducing uncertainty and improving the predictive power of the decision tree.\n",
    "\n",
    "To calculate the Information gain for our example A and B. We already calculated the entropy after we split, we will also need to compute the entropy before we split. Then we substract the entropy after split from the entropy before split. The result is our information gain. The feature which gives us the highest information gain will be our feature of choice for spiting at that subset. "
   ]
  },
  {
   "cell_type": "markdown",
   "id": "1f5bf43d",
   "metadata": {},
   "source": [
    "information gain = entropy before split - entropy after split\n",
    "\n",
    "entropy after split by voice texture (fig A) = 0.6153 <br>\n",
    "entropy after split by Hair Length (fig B) = 0.682\n",
    "\n",
    "To calculate information gain for this two splits A and B we need to compute entropy before split\n",
    "\n",
    "Entropy before split = $-(p(m) \\times \\log_2(p(m))) + -(p(f) \\times \\log_2(p(f)))$ <br><br>\n",
    "$= -(\\frac{4}{8} \\times \\log_2(\\frac{4}{8})) + -(\\frac{4}{8} \\times \\log_2(\\frac{4}{8}))$ <br><br>\n",
    "$= 0.5 + 0.5 = 1 $\n",
    "\n",
    "Before the split, the entropy is at its maximum value (1). This occurs when the dataset contains an equal number of instances from each class. In such cases, the dataset is considered to be the most uncertain or \"unclean\" because neither class dominates the node. Both classes have nearly equal representation, leading to a higher entropy value.\n",
    "\n",
    "A higher entropy indicates a greater level of uncertainty in assigning instances to specific classes at that node. The goal of the decision tree algorithm is to reduce this uncertainty by finding the best split that maximizes the information gain, which is the difference between the entropy before and after the split. By identifying features that can effectively separate the classes and minimize the entropy, the decision tree can make more informed and accurate predictions."
   ]
  },
  {
   "cell_type": "markdown",
   "id": "d1aa4845",
   "metadata": {},
   "source": [
    "<b>information gain when we split by Voice Texture </b> $ = 1 - 0.6153 = $<b style='font-size: 12pt'> 0.3847</b><br><br>\n",
    "<b>information gain when we split by Hair length </b> $ = 1 - 0.682 = $  <b style='font-size: 12pt'> 0.318</b><br><br>\n",
    "\n",
    "Therefore, splitting by voice texture has the highest information gain. Hence, it would be a prefered feature for the split at that node. This is how decision tree algorithm selects suitable feature to slit by at every subtree."
   ]
  },
  {
   "cell_type": "markdown",
   "id": "88db864d",
   "metadata": {},
   "source": [
    "### 3. What happens if the values of a feature are not descrete?"
   ]
  },
  {
   "cell_type": "markdown",
   "id": "7f279e37",
   "metadata": {},
   "source": [
    "\n",
    "In some cases, the features we consider for our decision tree may be continuous rather than discrete. For example, a height feature could have values like 5.4, 6.3, and so on. The question then arises: How do we calculate the information gain for such continuous features?\n",
    "\n",
    "Let's take the example of a height feature with the following records: 5.5, 6.3, 4.7, 5.4, 6.0, 5.5, 5.0, and 4.9. To calculate the information gain for this feature, we need to split the dataset based on different threshold values. One common approach is to try all the values in that feature as splitting thresholds.\n",
    "\n",
    "For instance, we can start by splitting the dataset into instances with heights greater than 5.5 and instances with heights less than or equal to 5.5. After the split, we calculate the information gain for this threshold. We repeat this process for other threshold values, such as 6.3 and 4.7, and compute the information gain for each split."
   ]
  },
  {
   "cell_type": "markdown",
   "id": "f49ea5eb",
   "metadata": {},
   "source": [
    "### 4. When do we stop creating subtree?"
   ]
  },
  {
   "cell_type": "markdown",
   "id": "0dfc17ef",
   "metadata": {},
   "source": [
    "When constructing a decision tree, it is crucial to determine when to stop creating subtrees. Continuously creating subtrees on a large dataset can lead to overfitting, where the decision tree becomes too specific to the training data and performs poorly on new, unseen data. To find the optimal point to stop splitting, we can use several conditions:\n",
    "\n",
    "1. Pure Node: If all the instances in a node belong to the same class, there is no need to split the node further. This means that the node is already pure, and the decision tree can simply predict that class for all examples that follow that path in the tree. <br><br>\n",
    "\n",
    "2. Specified Number of Depth: We can also stop splitting when the tree has reached a specified maximum depth. For example, if we set a maximum depth of 2, the decision tree will not split further beyond that depth. This prevents the tree from becoming too deep and complex. <br><br>\n",
    "\n",
    "3. Minimum Information Gain: Information gain measures the improvement in predictive power achieved by splitting on a particular attribute. By specifying a minimum information gain or entropy threshold, we can stop splitting when the information gain at a node is less than or equal to that threshold. This prevents the creation of unnecessary splits that do not significantly contribute to improving the predictive ability of the decision tree.<br><br>\n",
    "\n",
    "By utilizing these stopping criteria, we strike a balance between capturing important patterns in the data and avoiding overfitting. The specific conditions chosen for stopping the tree construction depend on the dataset, the problem at hand, and the desired trade-off between complexity and accuracy."
   ]
  },
  {
   "cell_type": "markdown",
   "id": "1c5bf41e",
   "metadata": {},
   "source": [
    "<h1> Pseudocode for Creating a Decision Tree </h1>"
   ]
  },
  {
   "cell_type": "markdown",
   "id": "830ba4f4",
   "metadata": {},
   "source": [
    "1. Creates a new node.\n",
    "2. Checks if the node meets any stopping criteria, such as purity, maximum depth, or minimum information gain.\n",
    "3. If a stopping criterion is met, returns the node as a leaf node and stops further splitting.\n",
    "4. If no stopping criterion is met, calculates information gain for all features at the current node and selects the highest.\n",
    "5. Splits the dataset at the current node using the selected feature by creating two new nodes: left and right.\n",
    "6. Repeats steps 2 to 6 for each new node created after the split."
   ]
  },
  {
   "cell_type": "markdown",
   "id": "898f2b25",
   "metadata": {},
   "source": [
    "<h1 style='background-color: black; color: white; padding: 10px; font-size: 24pt'> Implementing a Decision Tree </h1>"
   ]
  },
  {
   "cell_type": "markdown",
   "id": "98901309",
   "metadata": {},
   "source": [
    "<h1> From Scratch Using Python </h1>"
   ]
  },
  {
   "cell_type": "code",
   "execution_count": 1,
   "id": "d88e41bf",
   "metadata": {},
   "outputs": [],
   "source": [
    "import numpy as np\n",
    "import pandas as pd\n",
    "from sklearn.preprocessing import OneHotEncoder"
   ]
  },
  {
   "cell_type": "markdown",
   "id": "9cc66580",
   "metadata": {},
   "source": [
    "To keep things simple, our decision tree model will take in training pandas dataframe of shape(n , n) as the feature set X and a series of shape(n, 1) as the target set. Then we handle the dataset by \n",
    "   > 1. OneHot encoding all categorical features\n",
    "   > 2. converting dataframe to numpy array"
   ]
  },
  {
   "cell_type": "code",
   "execution_count": 2,
   "id": "62a6cc44",
   "metadata": {},
   "outputs": [],
   "source": [
    "class Node:\n",
    "    def __init__(self, y, feature_index, threshold_value):\n",
    "        self.y = y\n",
    "        self.feature_index = feature_index\n",
    "        self.threshold_value = threshold_value\n",
    "        self.prediction = self._get_node_prediction(self.y)\n",
    "        self.left = None\n",
    "        self.right = None\n",
    "    \n",
    "    def _get_node_prediction(self, y):\n",
    "        values, counts = np.unique(y, return_counts=True)\n",
    "        max_count_index = np.argmax(counts)\n",
    "        pred = values[max_count_index]\n",
    "        return pred\n",
    "        \n",
    "    def __str__(self):\n",
    "        return \"Node({})\".format(self.feature_index)"
   ]
  },
  {
   "cell_type": "code",
   "execution_count": 3,
   "id": "71a41c25",
   "metadata": {},
   "outputs": [],
   "source": [
    "class DecisionTreeClassifier():\n",
    "    \n",
    "    def __init__(self, max_depth = None):\n",
    "        self.max_depth = max_depth\n",
    "        \n",
    "        \n",
    "    def _check_features(self, X, y):\n",
    "        ''' Checks to ensure that the Dataset does not contain categorical features. \n",
    "            Returns the dataset X, y if all features are Numerical or raises a valueerror \n",
    "            if the dataset contains categorical feature     \n",
    "        '''\n",
    "        cat_df = X.select_dtypes(include=['object', 'category'])\n",
    "        y_dtype = y.dtype\n",
    "        if len(cat_df.columns) > 0 and y_dtype not in ['object', 'category']:\n",
    "            raise ValueError(\"The features X = {} or y contain categorical values\".format(list(cat_df.columns)))\n",
    "        else:\n",
    "            return X, y\n",
    "        \n",
    "        \n",
    "    def _split(self, X, y, feature_index, threshold):\n",
    "        '''\n",
    "            Splits the dataset into left and right based on a threshold value for a feature.\n",
    "            Returns all the records less than or equal to threshold as x_left, y_left and the \n",
    "            others as x_right and y_right\n",
    "        '''\n",
    "        x_left = X[X[:, feature_index] >= threshold]\n",
    "        x_right = X[X[:, feature_index] < threshold]\n",
    "        y_left = y[X[:, feature_index] >= threshold]\n",
    "        y_right = y[X[:, feature_index] < threshold]\n",
    "        \n",
    "        return x_left, x_right, y_left, y_right\n",
    "    \n",
    "    \n",
    "    def _calc_probabiility_weight(self, X, y, feature_index, threshold, split=True):\n",
    "        '''\n",
    "            calculate all the probability and the weights for a node eighter before split or after slip.\n",
    "            \n",
    "            If split is true, it splits the dataset into left and right before computing the p and w. else,\n",
    "            It calculates the p and w without splitting. This function allows entropy to be computed\n",
    "            before spliting a node or after splitting the node.\n",
    "            \n",
    "            returns \n",
    "        '''\n",
    "        if split:\n",
    "            x_left, x_right, y_left, y_right = self._split(X, y, feature_index, threshold)\n",
    "            \n",
    "            # gets count for all unique classes in left and divide by total number of classes. This gives p for each class\n",
    "            p_left = np.unique(y_left, return_counts=True)[1] / y_left.shape[0]  \n",
    "            \n",
    "            # gets count for all unique classes in right and divide by total number of classes. This gives p for each class\n",
    "            p_right = np.unique(y_right, return_counts=True)[1] / y_right.shape[0]\n",
    "            \n",
    "            # get count of all samples at left and right divided by total node sample. Gives the left and right weights \n",
    "            w = (x_left.shape[0] / X.shape[0], x_right.shape[0] / X.shape[0])\n",
    "\n",
    "            return (p_left, p_right), w\n",
    "        else:\n",
    "            p_left = np.unique(y, return_counts=True)[1] / y.shape[0]\n",
    "            w = [1]\n",
    "            return (p_left, ), w\n",
    "        \n",
    "        \n",
    "    def _calculate_entropy(self, X, y, feature_index, split=True):\n",
    "        '''\n",
    "            \n",
    "        '''\n",
    "        if len(np.unique(X[:, feature_index])) <= 2:\n",
    "            entropy = 0\n",
    "            threshold = 1\n",
    "            p_both, w = self._calc_probabiility_weight(X, y, feature_index, threshold, split)\n",
    "            \n",
    "            for index, p in enumerate(p_both):\n",
    "                entropy += np.sum(-(p * np.log2(p))) * w[index]\n",
    "\n",
    "            return entropy, 1\n",
    "        \n",
    "        else:\n",
    "            entropy = [None, None] \n",
    "            feature_values = np.unique(X[:, feature_index])\n",
    "            \n",
    "            for value in feature_values:\n",
    "                p_both, w = self._calc_probabiility_weight(X, y, feature_index, value, split)\n",
    "                cur_entropy = 0\n",
    "                for index, p in enumerate(p_both):\n",
    "                    cur_entropy += (np.sum(-(p * np.log2(p))) * w[index])\n",
    "                \n",
    "                if entropy[0] is None or cur_entropy < entropy[0]:\n",
    "                    entropy = [cur_entropy, value]\n",
    "                    \n",
    "            return entropy\n",
    "        \n",
    "        \n",
    "    def _calc_probabiility_weight(self, X, y, feature_index, threshold, split=True):\n",
    "        if split:\n",
    "            x_left, x_right, y_left, y_right = self._split(X, y, feature_index, threshold)\n",
    "\n",
    "            p_left = np.unique(y_left, return_counts=True)[1] / y_left.shape[0]\n",
    "            p_right = np.unique(y_right, return_counts=True)[1] / y_right.shape[0]\n",
    "            \n",
    "            w = (x_left.shape[0] / X.shape[0], x_right.shape[0] / X.shape[0])\n",
    "\n",
    "            return (p_left, p_right), w\n",
    "        else:\n",
    "            p_left = np.unique(y, return_counts=True)[1] / y.shape[0]\n",
    "            w = [1]\n",
    "            return (p_left, ), w\n",
    "    \n",
    "    \n",
    "    def _calculate_information_gain(self, X, y, feature_index):\n",
    "        # compute entropy before split \n",
    "        entropy_before = self._calculate_entropy(X, y, 1, False)\n",
    "        \n",
    "        # compute entropy after split\n",
    "        entropy_after = self._calculate_entropy(X, y, feature_index, True)\n",
    "        \n",
    "        # compute information gain\n",
    "        information_gain = entropy_before[0] - entropy_after[0]\n",
    "        \n",
    "        return information_gain, entropy_after[1]\n",
    "    \n",
    "    \n",
    "    def _select_best_feature(self, X, y, feature_indexes):\n",
    "        info_gains = {}\n",
    "        for index in feature_indexes:\n",
    "            info_gains[index] = self._calculate_information_gain(X, y, index)\n",
    "        \n",
    "        info_gains = dict(sorted(info_gains.items(), key=lambda x: x[1][0], reverse=True))\n",
    "        best_feature = next(iter(info_gains))\n",
    "        feature_gain = info_gains[best_feature][0]\n",
    "        feature_threshold = info_gains[best_feature][1]\n",
    "        \n",
    "        if feature_gain > 0:\n",
    "            return best_feature, feature_gain, feature_threshold\n",
    "        else:\n",
    "            return None\n",
    "    \n",
    "    def fit(self, X, y):    \n",
    "        X = self._check_features(X)\n",
    "        self.X = np.array(X)\n",
    "        self.y = np.array(y)\n",
    "        self.features = range(0, self.X.shape[1])\n",
    "        \n",
    "        if not self.max_depth:\n",
    "            self.max_depth = self.X.shape[0]\n",
    "            \n",
    "        self.tree = self._build_tree(self.X, self.y)\n",
    "        \n",
    "        \n",
    "    def _build_tree(self, X, y, depth = 0):\n",
    "        if self._select_best_feature(X, y, self.features):\n",
    "            feature_idx, info_gain, threshold = self._select_best_feature(X, y, self.features)\n",
    "            node = Node(y, feature_idx, threshold) \n",
    "            \n",
    "            if (depth < self.max_depth) and (len(np.unique(y)) > 1): \n",
    "                x_left, x_right, y_left, y_right = self._split(X, y, feature_idx, threshold)\n",
    "\n",
    "                node.left = self._build_tree(x_left, y_left, depth + 1)\n",
    "                node.right = self._build_tree(x_right, y_right, depth + 1)\n",
    "            return node\n",
    "        else:\n",
    "            return None\n",
    "        \n",
    "    def _predict(self, X_test):\n",
    "        tree = self.tree\n",
    "        while tree:\n",
    "            if X_test[tree.feature_index] >= tree.threshold_value and tree.left is not None:\n",
    "                tree = tree.left\n",
    "            elif X_test[tree.feature_index] < tree.threshold_value and tree.right is not None:\n",
    "                tree = tree.right\n",
    "            else:\n",
    "                return tree.prediction\n",
    "    \n",
    "    def predict(self, X):\n",
    "        X = np.array(X) \n",
    "        return [self._predict(x) for x in X]"
   ]
  },
  {
   "cell_type": "code",
   "execution_count": 4,
   "id": "c7247b76",
   "metadata": {},
   "outputs": [],
   "source": [
    "from sklearn.model_selection import train_test_split"
   ]
  },
  {
   "cell_type": "code",
   "execution_count": 5,
   "id": "e9705a3b",
   "metadata": {},
   "outputs": [
    {
     "ename": "NameError",
     "evalue": "name 'data' is not defined",
     "output_type": "error",
     "traceback": [
      "\u001b[1;31m---------------------------------------------------------------------------\u001b[0m",
      "\u001b[1;31mNameError\u001b[0m                                 Traceback (most recent call last)",
      "Cell \u001b[1;32mIn[5], line 1\u001b[0m\n\u001b[1;32m----> 1\u001b[0m X_train, X_test, y_train, y_test \u001b[38;5;241m=\u001b[39m train_test_split(\u001b[43mdata\u001b[49m\u001b[38;5;241m.\u001b[39miloc[:, :\u001b[38;5;241m-\u001b[39m\u001b[38;5;241m1\u001b[39m], data\u001b[38;5;241m.\u001b[39miloc[:, \u001b[38;5;241m-\u001b[39m\u001b[38;5;241m1\u001b[39m:], test_size\u001b[38;5;241m=\u001b[39m\u001b[38;5;241m0.2\u001b[39m, random_state\u001b[38;5;241m=\u001b[39m\u001b[38;5;241m42\u001b[39m)\n",
      "\u001b[1;31mNameError\u001b[0m: name 'data' is not defined"
     ]
    }
   ],
   "source": [
    "X_train, X_test, y_train, y_test = train_test_split(data.iloc[:, :-1], data.iloc[:, -1:], test_size=0.2, random_state=42)"
   ]
  },
  {
   "cell_type": "code",
   "execution_count": 6,
   "id": "094d9ac6",
   "metadata": {},
   "outputs": [],
   "source": [
    "d = DecisionTreeClassifier(max_depth = 200)"
   ]
  },
  {
   "cell_type": "code",
   "execution_count": 7,
   "id": "84c1d3aa",
   "metadata": {},
   "outputs": [
    {
     "ename": "NameError",
     "evalue": "name 'X_train' is not defined",
     "output_type": "error",
     "traceback": [
      "\u001b[1;31m---------------------------------------------------------------------------\u001b[0m",
      "\u001b[1;31mNameError\u001b[0m                                 Traceback (most recent call last)",
      "Cell \u001b[1;32mIn[7], line 1\u001b[0m\n\u001b[1;32m----> 1\u001b[0m d\u001b[38;5;241m.\u001b[39mfit(\u001b[43mX_train\u001b[49m, y_train)\n",
      "\u001b[1;31mNameError\u001b[0m: name 'X_train' is not defined"
     ]
    }
   ],
   "source": [
    "d.fit(X_train, y_train)"
   ]
  },
  {
   "cell_type": "code",
   "execution_count": 8,
   "id": "d63b28a1",
   "metadata": {},
   "outputs": [
    {
     "ename": "NameError",
     "evalue": "name 'X_test' is not defined",
     "output_type": "error",
     "traceback": [
      "\u001b[1;31m---------------------------------------------------------------------------\u001b[0m",
      "\u001b[1;31mNameError\u001b[0m                                 Traceback (most recent call last)",
      "Cell \u001b[1;32mIn[8], line 1\u001b[0m\n\u001b[1;32m----> 1\u001b[0m pred \u001b[38;5;241m=\u001b[39m d\u001b[38;5;241m.\u001b[39mpredict(\u001b[43mX_test\u001b[49m)\n",
      "\u001b[1;31mNameError\u001b[0m: name 'X_test' is not defined"
     ]
    }
   ],
   "source": [
    "pred = d.predict(X_test)"
   ]
  },
  {
   "cell_type": "code",
   "execution_count": 9,
   "id": "b6ddbf86",
   "metadata": {},
   "outputs": [
    {
     "ename": "NameError",
     "evalue": "name 'y_test' is not defined",
     "output_type": "error",
     "traceback": [
      "\u001b[1;31m---------------------------------------------------------------------------\u001b[0m",
      "\u001b[1;31mNameError\u001b[0m                                 Traceback (most recent call last)",
      "Cell \u001b[1;32mIn[9], line 2\u001b[0m\n\u001b[0;32m      1\u001b[0m \u001b[38;5;28;01mfrom\u001b[39;00m \u001b[38;5;21;01msklearn\u001b[39;00m\u001b[38;5;21;01m.\u001b[39;00m\u001b[38;5;21;01mmetrics\u001b[39;00m \u001b[38;5;28;01mimport\u001b[39;00m classification_report\n\u001b[1;32m----> 2\u001b[0m report \u001b[38;5;241m=\u001b[39m classification_report(\u001b[43my_test\u001b[49m, pred)\n\u001b[0;32m      3\u001b[0m \u001b[38;5;28mprint\u001b[39m(report)\n",
      "\u001b[1;31mNameError\u001b[0m: name 'y_test' is not defined"
     ]
    }
   ],
   "source": [
    "from sklearn.metrics import classification_report\n",
    "report = classification_report(y_test, pred)\n",
    "print(report)"
   ]
  },
  {
   "cell_type": "code",
   "execution_count": 10,
   "id": "7bdebf0e",
   "metadata": {},
   "outputs": [],
   "source": [
    "file_path = \"datasets/heart_failure.csv\"\n",
    "\n",
    "# Read the CSV file\n",
    "data = pd.read_csv(file_path)"
   ]
  },
  {
   "cell_type": "code",
   "execution_count": 11,
   "id": "76997332",
   "metadata": {},
   "outputs": [
    {
     "ename": "AttributeError",
     "evalue": "'DecisionTreeClassifier' object has no attribute 'tree'",
     "output_type": "error",
     "traceback": [
      "\u001b[1;31m---------------------------------------------------------------------------\u001b[0m",
      "\u001b[1;31mAttributeError\u001b[0m                            Traceback (most recent call last)",
      "Cell \u001b[1;32mIn[11], line 1\u001b[0m\n\u001b[1;32m----> 1\u001b[0m tree \u001b[38;5;241m=\u001b[39m \u001b[43md\u001b[49m\u001b[38;5;241;43m.\u001b[39;49m\u001b[43mtree\u001b[49m\n\u001b[0;32m      3\u001b[0m \u001b[38;5;28;01mwhile\u001b[39;00m tree\u001b[38;5;241m.\u001b[39mright:\n\u001b[0;32m      4\u001b[0m     \u001b[38;5;28mprint\u001b[39m(tree\u001b[38;5;241m.\u001b[39mprediction)\n",
      "\u001b[1;31mAttributeError\u001b[0m: 'DecisionTreeClassifier' object has no attribute 'tree'"
     ]
    }
   ],
   "source": [
    "tree = d.tree\n",
    "\n",
    "while tree.right:\n",
    "    print(tree.prediction)\n",
    "    \n",
    "    tree = tree.left"
   ]
  },
  {
   "cell_type": "code",
   "execution_count": 12,
   "id": "71646f19",
   "metadata": {},
   "outputs": [
    {
     "data": {
      "text/plain": [
       "0    203\n",
       "1     96\n",
       "Name: DEATH_EVENT, dtype: int64"
      ]
     },
     "execution_count": 12,
     "metadata": {},
     "output_type": "execute_result"
    }
   ],
   "source": [
    "data['DEATH_EVENT'].value_counts()"
   ]
  },
  {
   "cell_type": "code",
   "execution_count": 13,
   "id": "3267ab96",
   "metadata": {},
   "outputs": [
    {
     "ename": "NameError",
     "evalue": "name 'X_train' is not defined",
     "output_type": "error",
     "traceback": [
      "\u001b[1;31m---------------------------------------------------------------------------\u001b[0m",
      "\u001b[1;31mNameError\u001b[0m                                 Traceback (most recent call last)",
      "Cell \u001b[1;32mIn[13], line 4\u001b[0m\n\u001b[0;32m      1\u001b[0m \u001b[38;5;28;01mfrom\u001b[39;00m \u001b[38;5;21;01msklearn\u001b[39;00m\u001b[38;5;21;01m.\u001b[39;00m\u001b[38;5;21;01mtree\u001b[39;00m \u001b[38;5;28;01mimport\u001b[39;00m DecisionTreeClassifier\n\u001b[0;32m      3\u001b[0m dt \u001b[38;5;241m=\u001b[39m DecisionTreeClassifier(max_depth \u001b[38;5;241m=\u001b[39m \u001b[38;5;241m200\u001b[39m)\n\u001b[1;32m----> 4\u001b[0m dt\u001b[38;5;241m.\u001b[39mfit(\u001b[43mX_train\u001b[49m, y_train)\n\u001b[0;32m      5\u001b[0m pred \u001b[38;5;241m=\u001b[39m dt\u001b[38;5;241m.\u001b[39mpredict(X_test)\n\u001b[0;32m      6\u001b[0m report \u001b[38;5;241m=\u001b[39m classification_report(y_test, pred)\n",
      "\u001b[1;31mNameError\u001b[0m: name 'X_train' is not defined"
     ]
    }
   ],
   "source": [
    "from sklearn.tree import DecisionTreeClassifier\n",
    "\n",
    "dt = DecisionTreeClassifier(max_depth = 200)\n",
    "dt.fit(X_train, y_train)\n",
    "pred = dt.predict(X_test)\n",
    "report = classification_report(y_test, pred)\n",
    "print(report)"
   ]
  },
  {
   "cell_type": "code",
   "execution_count": null,
   "id": "75a6058e",
   "metadata": {},
   "outputs": [],
   "source": []
  }
 ],
 "metadata": {
  "kernelspec": {
   "display_name": "Python 3 (ipykernel)",
   "language": "python",
   "name": "python3"
  },
  "language_info": {
   "codemirror_mode": {
    "name": "ipython",
    "version": 3
   },
   "file_extension": ".py",
   "mimetype": "text/x-python",
   "name": "python",
   "nbconvert_exporter": "python",
   "pygments_lexer": "ipython3",
   "version": "3.9.12"
  }
 },
 "nbformat": 4,
 "nbformat_minor": 5
}
