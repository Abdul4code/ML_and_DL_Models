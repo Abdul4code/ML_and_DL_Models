{
 "cells": [
  {
   "cell_type": "markdown",
   "id": "db71f1d9",
   "metadata": {},
   "source": [
    "<h1 style=\"text-align: center; font-size: 30pt\"> ARTIFICIAL NEURAL NETWORKS </h1>\n",
    "<h1 style=\"text-align: center; font-size: 18pt; margin-bottom:50px; font-family:Arial\"> Abubakar Abdulkadir </h1>\n",
    "<img src='images/dl.jpg'width=\"100%\"/><br><br>"
   ]
  },
  {
   "cell_type": "markdown",
   "id": "5730dfea",
   "metadata": {},
   "source": [
    "<h1> The Neural Network Architecture</h1>"
   ]
  },
  {
   "cell_type": "markdown",
   "id": "c7b4f482",
   "metadata": {},
   "source": [
    "Artificial Neural Network (ANN) or simply Neural networks is a supervised computational model inspired by how the human brain works. It consists of several computational nodes called Neurons interconnected to process and transmit information, similar to the way neurons in the human brain communicate with each other. Each neuron performs computation, the simplest being a logistic regression, and forwards the output to other neurons in the network. Through this structure, the neural network is able to leevrage on the power of combining several units of basic processing into a bigger, stronger and more accurate system.   "
   ]
  },
  {
   "cell_type": "markdown",
   "id": "123c3757",
   "metadata": {},
   "source": [
    "<img src='images/nn.PNG' />"
   ]
  },
  {
   "cell_type": "markdown",
   "id": "17fe2cb0",
   "metadata": {},
   "source": [
    "Before we look at the architecture of a Neural Network, let's build intuition. Assuming we have the task of constructing a bridge. Such a nature of the task will require several specialties like architectural engineering, civil engineers, material scientists, etc. But we only have unskilled labor, meaning we must have to provide training for the workforce. Since there will be training anyway, we have three options: we can choose to pick one of the laborers and attempt to train them in all the required specialties, or we can choose to train all the workforce in all of the required specialties, and lastly, we can choose to divide the workforce into distinct specialties and have each group focus on a specific assignment. Which of these approaches will likely yield the optimal quality of the bridge?\n",
    "\n",
    "Yes, you are correct. If we choose to go with option one, it would be almost impossible for that one person to pay attention to all the details of the specialties and not be overwhelmed. So this approach is not guaranteed to yield the best possible result. If we choose to stick with option two, then we will end up training a larger number of persons who are most likely going to be overwhelmed themselves and, in the end, not be able to grasp the details. With the last option, each person is learning the bits they need to deliver their task in the project to the best possible quality. Hence, approach three will most likely perform better. Approach number three is an analogy of the Artificial Neural Network. This is why Artificial Neural Network shines, especially when we have a large dataset to learn from.\n",
    "\n",
    "Lets look at each component of the arttificial nueral network architecture"
   ]
  },
  {
   "cell_type": "markdown",
   "id": "412d86ee",
   "metadata": {},
   "source": [
    "### Neurons"
   ]
  },
  {
   "cell_type": "markdown",
   "id": "62778c28",
   "metadata": {},
   "source": [
    "Neurons serve as the fundamental building blocks of a neural network. Drawing from the analogy, we can liken a neuron to a single workman, visualized as circles in Figure 1. Each neuron functions as an independent entity that receives input data, performs internal computations, and produces an output. It's worth noting that when the network consists of only one neuron, it is akin to conducting a linear or logistic regression. Figure 1 shows six neurons splitted into three layers."
   ]
  },
  {
   "cell_type": "markdown",
   "id": "dad05228",
   "metadata": {},
   "source": [
    "### Layers"
   ]
  },
  {
   "cell_type": "markdown",
   "id": "586e150b",
   "metadata": {},
   "source": [
    "Neurons in a neural network are organized into layers. Each layer consists of one or more neurons performing the same task on a set of inputs. The output of one layer becomes the input for the next, enabling information flow and learning.\n",
    "\n",
    "In the analogy, layers represent specialization. For example, in Layer 1, which represents architectural design, neurons specialize in architecture. They learn from the same input and produce architectural outputs. These outputs then become input for Layer 2, representing civil engineering.\n",
    "\n",
    "Layers in a neural network mimic the expertise stages. Specialized teams handle different aspects in real projects. Collaboration between layers enables complex information processing and comprehensive outputs.Dividing the network into layers capitalizes on specialization, fostering collective intelligence that surpasses isolated neurons or layers."
   ]
  },
  {
   "cell_type": "markdown",
   "id": "fb4b80be",
   "metadata": {},
   "source": [
    "- Input Layer: Layer 0 is often refered to as the input layer. No computation occurs in this layer and it is not often counted among the layers. It is the layer which holds the dataset. Figure 1 has input layer with 4 features.\n",
    "\n",
    "- Hidden Layer: All layers between the input and the output layer are refered to as hidden layers. Figure 1 has two hidden layers with 3 and 2 neuron respectively.\n",
    "\n",
    "- Output Layer: This is the layer which produces the final result. Figure 1 has output layer with 1 neuron.\n"
   ]
  },
  {
   "cell_type": "markdown",
   "id": "127e79f0",
   "metadata": {},
   "source": [
    "<h1> How the Neural Network learns - Intuition </h1>"
   ]
  },
  {
   "cell_type": "markdown",
   "id": "5c30a37f",
   "metadata": {},
   "source": [
    "Let's analyze the functioning of a neural network using Layer 1 and the analogy of bridge-building process. The input layer contains a dataset of several successful bridges built before. This dataset from layer 0 is passed into layer 1 as training materials. The neurons in layer 1 (the training architechs) looks at the dataset and make thier own sketches using thier current knowledge. Because each nueron in the layer have distinct current knowledge, thier outputs will differ. They will each compare thier own sketch with the dataset of the working images and calculate their level of errors (what doesnt work). Then they will each update thier knowledge accordingly. \n",
    "\n",
    "Although, instead of passing the working images to the next layer (Layer 2), they will pass thier own sketch to avoid layer 2 learning the same thing they have learnt. Now layer 2 will commence their own learning using the sketch from Layer 1, then thier output goes to the output layer. This process is repeated for a large trainner-defined amount of time and with each cycle, nuerons in a layer update thier knowledge until thier errors is as close to zero as possible."
   ]
  },
  {
   "cell_type": "markdown",
   "id": "3e5c8403",
   "metadata": {},
   "source": [
    "<h1> How the Neural Network learns - Technical </h1>"
   ]
  },
  {
   "cell_type": "markdown",
   "id": "985267c2",
   "metadata": {},
   "source": [
    "Lets look for a simple task. Assuming we want to predict if a water will boil or not given for parameters such as temperature, level of impurity, atm pressure, amount of water and time. We have the dataset as shown below (note that this is a syntetic dataset just for example). <br><br>\n",
    "<img src='images/dataset_dl.PNG' /> <br><br>\n",
    "The nueral network learns in two phases known as the forward and backward propagation."
   ]
  },
  {
   "cell_type": "markdown",
   "id": "76235bfd",
   "metadata": {},
   "source": [
    "#### Forward Propagation\n",
    "In the forward propagation phase, two computations occur.\n",
    "\n",
    "1. Each neuron in the layers makes predictions using outputs from the previous layer as input (x) together with their current knowledge called weights represented by a vector of real numbers w and bias b which is a real number. This phase gives us $\\hat{y}$ by making the following computations\n",
    "\n",
    "<p style=\"text-align:center; font-size: 14pt\">i.  $z = \\sum_{i=1}^{n}w^i \\times x^i + b$. </p> \n",
    "Where n is the number of training examples, x is the input data and b is the bias.\n",
    "\n",
    "This is a linear function. Even if we train thousands or millions of linear equations, it will always result to a linear equation. This will prevent the nueral network from learning diverse structures at distinct layers. It will therefore reduce our equation to a glorified linear regressor. Hence, we need to apply an activation function to switch the shape of our fit. There are several activation functions such as rectiified liniear unit (ReLu), Hyperbolic Tantent (Tanh), Exponential Linear Unit (ELU), Softmax etc, but for this task, we will make use of the sigmoid.\n",
    "\n",
    "<p style=\"text-align:center; font-size: 14pt\"> ii.  $f(z) = \\frac{1}{1 + e^{-x}}$ </p> \n",
    "<p style=\"text-align:center; font-size: 14pt\"> Then the output of each neuron will be $ \\hat{y} = f(z) $ </p> \n",
    "\n",
    "Assuming W = [2, 1.3, 0.4, 1.7, 2] (these numbers are generated randomly. It is just to initialize the weights) where each entry is the weight assigned to each feature and the training set in figure 2. Then neuron A1 in figure 1 will compute the prediction for the first training example $\\hat{y_1}$ as follows\n",
    "\n",
    "$z = 2 \\times 70 + 1.3 \\times 0.54 + 0.4 \\times 12.7 +1.7 \\times 2 + 5 \\times 2 = 159.182$ <br><br>\n",
    "$\\hat{y_1} = \\frac{1}{1 + e^{-159.182}} = 1$\n",
    "\n",
    "Neuron A1 predicts 1, which is correct for the first training example. Lets look at its prediction for the second training example, \n",
    "$z = 2 \\times 45 + 1.3 \\times 0.2 + 0.4 \\times 15.4 +1.7 \\times 1.5 + 2 \\times 7 = 112.97$ <br><br>\n",
    "$\\hat{y_2} = \\frac{1}{1 + e^{-112.97}} = 1$\n",
    "\n",
    "This time, the neuron gets its prediction wrong. Hence, this leads to the second computation."
   ]
  },
  {
   "cell_type": "markdown",
   "id": "1a08b2f7",
   "metadata": {},
   "source": [
    "2. In the second computation under the forward propagation, the neuron will compute the difference between its prediction with the actual value for each training example. This is called the loss.\n",
    "\n",
    "<p style=\"text-align:center; font-size: 14pt\">  $L(\\hat{y}, y) = - y \\log{\\hat{y}} - (1 - y)log(1 - \\hat{y})$ </p> \n",
    "\n",
    "The average of the loss across the entire training dataset is termed as the cost and is computed as \n",
    "\n",
    "<p style=\"text-align:center; font-size: 14pt\">  $J(w, b) = -\\frac{1}{m} \\sum_{i=1}^{m} [y^{(i)} \\log(\\hat{y}^{(i)}) + (1 - y^{(i)}) \\log(1 - \\hat{y}^{(i)})]$\n",
    " </p> \n",
    " \n",
    " The major objective of learning, is to reduce the cost function such that it is as close to zero as possible. 0 cost function will mean that there is no difference between the predicted and actual value across the entire dataset."
   ]
  },
  {
   "cell_type": "markdown",
   "id": "84ee15ba",
   "metadata": {},
   "source": [
    "#### Bacward Propagation"
   ]
  },
  {
   "cell_type": "markdown",
   "id": "637686d0",
   "metadata": {},
   "source": [
    "Before we discuss bacward propagation, we will notice that our problem has taken a new dimension. It is no longer how to predict or classify. It is now how do we reduce a particular function to be as close to zero as possible. This problem is a minimization problem. One common technique for minimization is the gradient descent. In our case we are looking at using gradient descent to minimize the cost function.\n",
    "\n",
    "<img src=\"images/cost_dl.PNG\" />"
   ]
  },
  {
   "cell_type": "markdown",
   "id": "04de3349",
   "metadata": {},
   "source": [
    "The cost function if plotted will look something like the figure above. Although, it is not drawn to scale. But the idea is, it will be bowl shaped and having its depth very close to zero. The zero is to find the parameters w which has the cost at the lowest point. The formular for gradient descent is\n",
    "\n",
    "<p style=\"text-align:center; font-size: 14pt\">  $w_i = w_i - \\lambda \\frac{\\partial J(w, b)}{\\partial w}$ <br><br>\n",
    "    $b = b - \\lambda \\frac{\\partial J(w, b)}{\\partial b}$\n",
    " </p> "
   ]
  },
  {
   "cell_type": "markdown",
   "id": "0d94b5a1",
   "metadata": {},
   "source": [
    "For every iteration of gradient descent, the parameters of the neuron gets updated by subtracting the result of multiplying the learning rate (a trainer-defined vaue) with the partial derivative of the cost function with respect to the each of the features.\n",
    "\n",
    "For an example, when we compute the cost function for w = 8, the result was seven. Lets perform a single step of gradient descent using one variable w.\n",
    "\n",
    "If we draw a tangent line to the curve at point A and compute the slope at A slope. We would find out that the slope at A will be a positive number. Lets say T. Then we can update w by sutracting T multiplied by the learning rate from it. The value of w will decrease bringing it closer to 0.\n",
    "\n",
    "If we use point B as another example, the slope at that point will be negative. Then if we apply the gradient descent formular to update parameter w, we will find out that subtrating a negative value from w will increase it. Therefore it will move closer to zero. Such is how gradient descent is helpful in minimizing the cost function."
   ]
  },
  {
   "cell_type": "markdown",
   "id": "a74e696e",
   "metadata": {},
   "source": [
    "In the backward propagation step, the derivatives are computed and the parameters are updated."
   ]
  },
  {
   "cell_type": "markdown",
   "id": "13851df6",
   "metadata": {},
   "source": [
    "### Summary of foward and backward propagation"
   ]
  },
  {
   "cell_type": "markdown",
   "id": "a8c0af85",
   "metadata": {},
   "source": [
    "In the forward propagation, a neuron computes its predicted value and computes the cost, then in the backward propagation, the neuron computes the gradient of the cost with respect to all the parameters and updates the parameters accordingly. This forward and backward cycle is repeated for as many times as it takes to update the parameters such that the cost is acceptably close to 0."
   ]
  },
  {
   "cell_type": "markdown",
   "id": "e746713c",
   "metadata": {},
   "source": [
    "<h1> Pseudocode for Neural Network </h1>"
   ]
  },
  {
   "cell_type": "markdown",
   "id": "c4dfacb6",
   "metadata": {},
   "source": [
    "1. Define the architectue\n",
    "    - specify how many features are in the input layer\n",
    "    - Add layers to the hidden and output layers\n",
    "    - specify the numbers of neuron in each layer and the activation functions\n",
    "    - Define the number of epochs (The number of cycles the algorithm will iterate over the entire dataset)\n",
    "2. Initialize all the parameters with random values\n",
    "3. If the current number of iteration is still less than the epoch then\n",
    "4.   Compute foward and backward propagations through the network\n",
    "5. Else return the trained model"
   ]
  },
  {
   "cell_type": "code",
   "execution_count": null,
   "id": "7c3e9914",
   "metadata": {},
   "outputs": [],
   "source": []
  }
 ],
 "metadata": {
  "kernelspec": {
   "display_name": "Python 3 (ipykernel)",
   "language": "python",
   "name": "python3"
  },
  "language_info": {
   "codemirror_mode": {
    "name": "ipython",
    "version": 3
   },
   "file_extension": ".py",
   "mimetype": "text/x-python",
   "name": "python",
   "nbconvert_exporter": "python",
   "pygments_lexer": "ipython3",
   "version": "3.9.12"
  }
 },
 "nbformat": 4,
 "nbformat_minor": 5
}
